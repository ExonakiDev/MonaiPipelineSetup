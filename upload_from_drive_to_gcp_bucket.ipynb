{
  "nbformat": 4,
  "nbformat_minor": 0,
  "metadata": {
    "colab": {
      "provenance": []
    },
    "kernelspec": {
      "name": "python3",
      "display_name": "Python 3"
    },
    "language_info": {
      "name": "python"
    }
  },
  "cells": [
    {
      "cell_type": "markdown",
      "source": [
        "https://github.com/frankkramer-lab/covid19.MIScnn?utm_source=catalyzex.com\n",
        "\n"
      ],
      "metadata": {
        "id": "WFZBdlYku8PG"
      }
    },
    {
      "cell_type": "code",
      "execution_count": 1,
      "metadata": {
        "colab": {
          "base_uri": "https://localhost:8080/"
        },
        "id": "w9-vwsc9u55v",
        "outputId": "52995052-3862-42df-b4b4-c42802eb660b"
      },
      "outputs": [
        {
          "output_type": "stream",
          "name": "stdout",
          "text": [
            "Mounted at /content/gdrive\n"
          ]
        }
      ],
      "source": [
        "# Mount the Google Drive to Google Colab\n",
        "from google.colab import drive\n",
        "drive.mount('/content/gdrive')"
      ]
    },
    {
      "cell_type": "code",
      "source": [
        "from google.colab import auth\n",
        "auth.authenticate_user()\n",
        "project_id = 'fluid-tangent-363120'\n",
        "!gcloud config set project {project_id}\n",
        "!gsutil ls"
      ],
      "metadata": {
        "colab": {
          "base_uri": "https://localhost:8080/"
        },
        "id": "Qlb1XWQj560i",
        "outputId": "087a4c3c-59ae-4b8b-d99e-3c92937e7986"
      },
      "execution_count": 2,
      "outputs": [
        {
          "output_type": "stream",
          "name": "stdout",
          "text": [
            "Updated property [core/project].\n",
            "gs://ctscans_saopaulo/\n",
            "gs://heart_data/\n"
          ]
        }
      ]
    },
    {
      "cell_type": "code",
      "source": [
        "bucket_name = 'heart_data'\n",
        "!gsutil -m cp -r /content/gdrive/MyDrive/MSD/Task01_BrainTumour.tar gs://{bucket_name}/\n",
        "!gsutil -m cp -r /content/gdrive/MyDrive/MSD/Task03_Liver.tar gs://{bucket_name}/\n",
        "!gsutil -m cp -r /content/gdrive/MyDrive/MSD/Task04_Hippocampus.tar gs://{bucket_name}/\n",
        "!gsutil -m cp -r /content/gdrive/MyDrive/MSD/Task05_Prostate.tar gs://{bucket_name}/\n",
        "!gsutil -m cp -r /content/gdrive/MyDrive/MSD/Task07_Pancreas.tar gs://{bucket_name}/\n",
        "!gsutil -m cp -r /content/gdrive/MyDrive/MSD/Task08_HepaticVessel.tar gs://{bucket_name}/\n",
        "!gsutil -m cp -r /content/gdrive/MyDrive/MSD/Task10_Colon.tar gs://{bucket_name}/\n"
      ],
      "metadata": {
        "colab": {
          "base_uri": "https://localhost:8080/"
        },
        "id": "w8vA0Hcf6K4h",
        "outputId": "2c2139f1-4221-4414-ede8-e13cf54c33fe"
      },
      "execution_count": 3,
      "outputs": [
        {
          "output_type": "stream",
          "name": "stdout",
          "text": [
            "Copying file:///content/gdrive/MyDrive/MSD/Task01_BrainTumour.tar [Content-Type=application/x-tar]...\n",
            "/ [0/1 files][    0.0 B/  7.1 GiB]   0% Done                                    \r==> NOTE: You are uploading one or more large file(s), which would run\n",
            "significantly faster if you enable parallel composite uploads. This\n",
            "feature can be enabled by editing the\n",
            "\"parallel_composite_upload_threshold\" value in your .boto\n",
            "configuration file. However, note that if you do this large files will\n",
            "be uploaded as `composite objects\n",
            "<https://cloud.google.com/storage/docs/composite-objects>`_,which\n",
            "means that any user who downloads such objects will need to have a\n",
            "compiled crcmod installed (see \"gsutil help crcmod\"). This is because\n",
            "without a compiled crcmod, computing checksums on composite objects is\n",
            "so slow that gsutil disables downloads of composite objects.\n",
            "\n",
            "-\n",
            "Operation completed over 1 objects/7.1 GiB.                                      \n",
            "Copying file:///content/gdrive/MyDrive/MSD/Task03_Liver.tar [Content-Type=application/x-tar]...\n",
            "==> NOTE: You are uploading one or more large file(s), which would run\n",
            "significantly faster if you enable parallel composite uploads. This\n",
            "feature can be enabled by editing the\n",
            "\"parallel_composite_upload_threshold\" value in your .boto\n",
            "configuration file. However, note that if you do this large files will\n",
            "be uploaded as `composite objects\n",
            "<https://cloud.google.com/storage/docs/composite-objects>`_,which\n",
            "means that any user who downloads such objects will need to have a\n",
            "compiled crcmod installed (see \"gsutil help crcmod\"). This is because\n",
            "without a compiled crcmod, computing checksums on composite objects is\n",
            "so slow that gsutil disables downloads of composite objects.\n",
            "\n",
            "|\n",
            "Operation completed over 1 objects/26.9 GiB.                                     \n",
            "Copying file:///content/gdrive/MyDrive/MSD/Task04_Hippocampus.tar [Content-Type=application/x-tar]...\n",
            "- [1/1 files][ 27.1 MiB/ 27.1 MiB] 100% Done                                    \n",
            "Operation completed over 1 objects/27.1 MiB.                                     \n",
            "Copying file:///content/gdrive/MyDrive/MSD/Task05_Prostate.tar [Content-Type=application/x-tar]...\n",
            "==> NOTE: You are uploading one or more large file(s), which would run\n",
            "significantly faster if you enable parallel composite uploads. This\n",
            "feature can be enabled by editing the\n",
            "\"parallel_composite_upload_threshold\" value in your .boto\n",
            "configuration file. However, note that if you do this large files will\n",
            "be uploaded as `composite objects\n",
            "<https://cloud.google.com/storage/docs/composite-objects>`_,which\n",
            "means that any user who downloads such objects will need to have a\n",
            "compiled crcmod installed (see \"gsutil help crcmod\"). This is because\n",
            "without a compiled crcmod, computing checksums on composite objects is\n",
            "so slow that gsutil disables downloads of composite objects.\n",
            "\n",
            "/\n",
            "Operation completed over 1 objects/228.7 MiB.                                    \n",
            "Copying file:///content/gdrive/MyDrive/MSD/Task07_Pancreas.tar [Content-Type=application/x-tar]...\n",
            "==> NOTE: You are uploading one or more large file(s), which would run\n",
            "significantly faster if you enable parallel composite uploads. This\n",
            "feature can be enabled by editing the\n",
            "\"parallel_composite_upload_threshold\" value in your .boto\n",
            "configuration file. However, note that if you do this large files will\n",
            "be uploaded as `composite objects\n",
            "<https://cloud.google.com/storage/docs/composite-objects>`_,which\n",
            "means that any user who downloads such objects will need to have a\n",
            "compiled crcmod installed (see \"gsutil help crcmod\"). This is because\n",
            "without a compiled crcmod, computing checksums on composite objects is\n",
            "so slow that gsutil disables downloads of composite objects.\n",
            "\n",
            "/\n",
            "Operation completed over 1 objects/11.4 GiB.                                     \n",
            "Copying file:///content/gdrive/MyDrive/MSD/Task08_HepaticVessel.tar [Content-Type=application/x-tar]...\n",
            "==> NOTE: You are uploading one or more large file(s), which would run\n",
            "significantly faster if you enable parallel composite uploads. This\n",
            "feature can be enabled by editing the\n",
            "\"parallel_composite_upload_threshold\" value in your .boto\n",
            "configuration file. However, note that if you do this large files will\n",
            "be uploaded as `composite objects\n",
            "<https://cloud.google.com/storage/docs/composite-objects>`_,which\n",
            "means that any user who downloads such objects will need to have a\n",
            "compiled crcmod installed (see \"gsutil help crcmod\"). This is because\n",
            "without a compiled crcmod, computing checksums on composite objects is\n",
            "so slow that gsutil disables downloads of composite objects.\n",
            "\n",
            "/\n",
            "Operation completed over 1 objects/8.7 GiB.                                      \n",
            "Copying file:///content/gdrive/MyDrive/MSD/Task10_Colon.tar [Content-Type=application/x-tar]...\n",
            "==> NOTE: You are uploading one or more large file(s), which would run\n",
            "significantly faster if you enable parallel composite uploads. This\n",
            "feature can be enabled by editing the\n",
            "\"parallel_composite_upload_threshold\" value in your .boto\n",
            "configuration file. However, note that if you do this large files will\n",
            "be uploaded as `composite objects\n",
            "<https://cloud.google.com/storage/docs/composite-objects>`_,which\n",
            "means that any user who downloads such objects will need to have a\n",
            "compiled crcmod installed (see \"gsutil help crcmod\"). This is because\n",
            "without a compiled crcmod, computing checksums on composite objects is\n",
            "so slow that gsutil disables downloads of composite objects.\n",
            "\n",
            "|\n",
            "Operation completed over 1 objects/5.8 GiB.                                      \n"
          ]
        }
      ]
    },
    {
      "cell_type": "code",
      "source": [],
      "metadata": {
        "id": "cytBPWFI3ACM"
      },
      "execution_count": null,
      "outputs": []
    }
  ]
}